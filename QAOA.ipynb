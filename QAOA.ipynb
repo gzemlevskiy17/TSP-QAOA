{
 "cells": [
  {
   "cell_type": "code",
   "execution_count": 1,
   "metadata": {},
   "outputs": [],
   "source": [
    "import numpy as np\n",
    "%matplotlib inline\n",
    "\n",
    "def points_order_to_binary_state(points_order):\n",
    "    \"\"\"\n",
    "    Transforms the order of points from the standard representation: [0, 1, 2],\n",
    "    to the binary one: [1,0,0,0,1,0,0,0,1]\n",
    "    \"\"\"\n",
    "    number_of_points = len(points_order)\n",
    "    binary_state = np.zeros((len(points_order))**2)\n",
    "    for j in range(len(points_order)):\n",
    "        p = points_order[j]\n",
    "        binary_state[(number_of_points) * (j) + (p)] = 1\n",
    "    return binary_state\n",
    "\n",
    "def binary_state_to_points_order(binary_state):\n",
    "    \"\"\"\n",
    "    Transforms the the order of points from the binary representation: [1,0,0,0,1,0,0,0,1],\n",
    "    to the binary one: [0, 1, 2]\n",
    "    \"\"\"\n",
    "    #note does not produce unique paths\n",
    "    points_order = []\n",
    "    number_of_points = int(np.sqrt(len(binary_state)))\n",
    "    for p in range(number_of_points):\n",
    "        for j in range(number_of_points):\n",
    "            if binary_state[(number_of_points) * p + j] == 1:\n",
    "                points_order.append(j)\n",
    "    return points_order"
   ]
  },
  {
   "cell_type": "code",
   "execution_count": 2,
   "metadata": {},
   "outputs": [],
   "source": [
    "def get_distance_matrix(cities):\n",
    "    number_of_cities = len(cities)\n",
    "    matrix = np.zeros((number_of_cities, number_of_cities))\n",
    "    for i in range(number_of_cities):\n",
    "        for j in range(i, number_of_cities):\n",
    "            matrix[i][j] = distance_between_points(cities[i], cities[j])\n",
    "            matrix[j][i] = matrix[i][j]\n",
    "    return matrix\n",
    "\n",
    "def distance_between_points(point_A, point_B):\n",
    "    return np.sqrt((point_A[0] - point_B[0])**2 + (point_A[1] - point_B[1])**2)\n",
    "\n",
    "#creating an array of cities using their coordinates\n",
    "cities = np.array([[0, 4],[0, 0],[3, 0]]) #3 cities\n",
    "#cities = np.array([[0,0], [0,1]]) #2 cities\n",
    "distance_matrix = get_distance_matrix(cities) #calculates distances between cities and populates an array with them\n",
    "number_of_cities = len(cities)"
   ]
  },
  {
   "cell_type": "code",
   "execution_count": 3,
   "metadata": {},
   "outputs": [],
   "source": [
    "import cirq\n",
    "from scipy import linalg\n",
    "\n",
    "#begins to contruct the cost hamiltonian by factoring in the distance between the cities\n",
    "def create_cost_ham(qubits, qc_qaoa, gamma):\n",
    "    number_of_cities = len(cities)\n",
    "    for i in range(number_of_cities):\n",
    "        for j in range(i, number_of_cities):\n",
    "            for t in range(number_of_cities - 1):\n",
    "                if distance_matrix[i][j] != 0:\n",
    "                    weight = distance_matrix[i][j]/2 #?\n",
    "                    #chooses qubits to apply the rzz gate to. they must represent different cities\n",
    "                    q1 = t * number_of_cities + i #\n",
    "                    q2 = (t + 1) * number_of_cities + j #\n",
    "                    qc_qaoa.append(cirq.ZZPowGate(exponent=gamma*weight / np.pi, global_shift=-0.5).on(qubits[q1], qubits[q2]))\n",
    "    \n",
    "    weight = 10*np.max(distance_matrix) #penalty weight\n",
    "\n",
    "    #penalty for bilocation (being in the 2 cities at the same time)\n",
    "    number_of_nodes = len(distance_matrix[0])\n",
    "    for t in range(number_of_nodes):\n",
    "        range_of_qubits = list(range(t * number_of_nodes, (t + 1) * number_of_nodes))\n",
    "        #qc_qaoa.append(cirq.DiagonalGate(diag_angles_radians=[x*gamma*weight for x in [0,1,1,0]]).on(*[qubits[i] for i in range_of_qubits])) #application of penalty operator #2 cities\n",
    "        qc_qaoa.append(cirq.DiagonalGate(diag_angles_radians=[x*gamma*weight for x in [1, 0, 0, 1, 0, 1, 1, 1]]).on(*[qubits[i] for i in range_of_qubits])) #application of penalty operator\n",
    "        \n",
    "    #penalty for repetition (visiting a city more than once)\n",
    "    for i in range(number_of_nodes):\n",
    "        range_of_qubits = list(range(i, number_of_nodes**2, number_of_nodes))\n",
    "        #qc_qaoa.append(cirq.DiagonalGate(diag_angles_radians=[x*gamma*weight for x in [0,1,1,0]]).on(*[qubits[i] for i in range_of_qubits])) #application of penalty operator #2 cities\n",
    "        qc_qaoa.append(cirq.DiagonalGate(diag_angles_radians=[x*gamma*weight for x in [1, 0, 0, 1, 0, 1, 1, 1]]).on(*[qubits[i] for i in range_of_qubits])) #application of penalty operator\n",
    "    \n",
    "    return qc_qaoa\n",
    "#the cost hamiltonian is now complete\n",
    "\n",
    "#creates the mixing hamiltonian (allows qaoa angle changes to take effect)\n",
    "def create_mix_ham(qubits, qc_qaoa, beta):\n",
    "    for i in range(len(qubits)):\n",
    "        qc_qaoa.append(cirq.rx(rads=beta).on(qubits[i])) #applies rx gate to all qubits, using an angle from qaoa as a parameter\n",
    "    return qc_qaoa\n",
    "\n",
    "def create_qaoa_circuit(nqubits, theta):\n",
    "    qc_qaoa = cirq.Circuit() #initializes the quantum circuit\n",
    "    qubits = cirq.LineQubit.range(nqubits)\n",
    "    #splits qaoa angle theta (array of numbers) into beta and gamma for separate uses (in the cost and mixer hamiltonian)\n",
    "    beta = theta[:int(len(theta)/2)]\n",
    "    gamma = theta[int(len(theta)/2):]\n",
    "    nqubits = len(cities)**2\n",
    "    \n",
    "    for i in range(nqubits):\n",
    "        qc_qaoa.append(cirq.H.on(qubits[i])) #applies hadamard gate to all qubits\n",
    "\n",
    "    #applies cost and mixing hamiltonians to the circuit (as described in the methods)\n",
    "    for i in range(len(beta)):\n",
    "        create_cost_ham(qubits, qc_qaoa, gamma[i])\n",
    "        create_mix_ham(qubits, qc_qaoa, beta[i])\n",
    "\n",
    "    qc_qaoa.append(cirq.measure(*qubits, key='result'))\n",
    "    return qc_qaoa"
   ]
  },
  {
   "cell_type": "code",
   "execution_count": 4,
   "metadata": {},
   "outputs": [],
   "source": [
    "def compute_expectation(counts, distance_matrix):\n",
    "    avg = 0\n",
    "    sum_count = 0\n",
    "    counts_list = []\n",
    "    for i in range(0, 2**9):\n",
    "        counts_list.append((list(np.binary_repr(i, width=9)), counts[i]))\n",
    "    counts_list = [(binary_state_to_points_order([int(i) for i in x[0]]), x[0], x[1]) for x in counts_list]\n",
    "    for item in counts_list:\n",
    "        path = item[0]\n",
    "        bitstring = item[1]\n",
    "        count = item[2]\n",
    "\n",
    "        total = 0\n",
    "        weight = 10*np.max(distance_matrix)\n",
    "\n",
    "        for i in range(len(path) - 1):\n",
    "            total += distance_matrix[path[i]][path[i+1]]\n",
    "\n",
    "        times = [bitstring[i:i + 3] for i in range(0, len(bitstring), 3)]\n",
    "        locations = [bitstring[i::3] for i in range(len(cities))]\n",
    "        for time in times:\n",
    "            if list(time).count('1')!=1:\n",
    "                total += weight\n",
    "                break\n",
    "        for location in locations:\n",
    "            if list(location).count('1')!=1:\n",
    "                total += weight\n",
    "                break\n",
    "\n",
    "        avg += total * count\n",
    "        sum_count += count\n",
    "    return avg/sum_count\n",
    "\n",
    "def get_expectation(distance_matrix):\n",
    "    s = cirq.Simulator()\n",
    "    \n",
    "    #executes the circuit\n",
    "    def execute_circ(theta):\n",
    "        qc = create_qaoa_circuit(len(distance_matrix[0])**2, theta)\n",
    "        counts = s.run(qc, repetitions=1000).histogram(key='result') #increase repetitions for better accuracy\n",
    "        \n",
    "        return compute_expectation(counts, distance_matrix)\n",
    "    \n",
    "    return execute_circ"
   ]
  },
  {
   "cell_type": "code",
   "execution_count": 19,
   "metadata": {},
   "outputs": [
    {
     "name": "stdout",
     "output_type": "stream",
     "text": [
      "[98.65419999999999, 94.83723333333334, 96.3161, 90.06969999999998, 87.7556666666667, 95.2676, 87.20986666666666, 87.69706666666666, 88.06179999999998]\n"
     ]
    }
   ],
   "source": [
    "from scipy.optimize import minimize\n",
    "np.random.seed()\n",
    "results = []\n",
    "for p in range(1, 10):\n",
    "    result = 0\n",
    "    for _ in range(30):\n",
    "        expectation = get_expectation(distance_matrix)\n",
    "\n",
    "    #     p=3 #increase layers for better accuracy\n",
    "        lb = np.zeros(2*p)\n",
    "        ub = np.hstack([np.full(p, np.pi), np.full(p, 2*np.pi)])\n",
    "        #init_point is a random guess for the initial angle parameter of QAOA\n",
    "        # init_point = np.random.uniform(lb, ub, 2*p)\n",
    "        init_point = np.zeros(2*p)\n",
    "\n",
    "        # minimization; COBYLA is the classical method used\n",
    "        res = minimize(expectation, \n",
    "                              init_point, \n",
    "                              method='COBYLA', tol=10e-6)\n",
    "        result += res.fun\n",
    "    results.append(result/30)\n",
    "\n",
    "print(results)"
   ]
  },
  {
   "cell_type": "code",
   "execution_count": 24,
   "metadata": {},
   "outputs": [
    {
     "name": "stdout",
     "output_type": "stream",
     "text": [
      "[ 1.19385516  1.12321715 -0.24530315 -0.11285878 -0.19438473  0.28846127\n",
      " -0.23521383 -0.04262083 -0.3971122  -0.10739937 -0.47255807 -0.12371154\n",
      " -0.13897506 -0.19102232 -0.07893034  0.00144354 -0.09203664  0.01028874]\n"
     ]
    }
   ],
   "source": [
    "best = res.x\n",
    "print(best)"
   ]
  },
  {
   "cell_type": "code",
   "execution_count": 25,
   "metadata": {},
   "outputs": [
    {
     "name": "stdout",
     "output_type": "stream",
     "text": [
      "[('100010001', 320), ('100001010', 285), ('010100001', 247), ('010010010', 200), ('001010100', 193), ('000000000', 146), ('001100010', 127), ('010001100', 120), ('001010010', 104), ('100110000', 99)]\n",
      "[([0, 1, 2], 320), ([0, 2, 1], 285), ([1, 0, 2], 247), ([1, 1, 1], 200), ([2, 1, 0], 193), ([], 146), ([2, 0, 1], 127), ([1, 2, 0], 120), ([2, 1, 1], 104), ([0, 0, 1], 99)]\n"
     ]
    }
   ],
   "source": [
    "np.random.seed()\n",
    "\n",
    "#runs circuit on a quantum simulator\n",
    "s = cirq.Simulator()\n",
    "qc_res = create_qaoa_circuit(len(distance_matrix[0])**2, best)\n",
    "#runs the circuit many (shots) times counts how many times each solution is obtained (correct solution should be most frequent)\n",
    "counts = s.run(qc_res, repetitions=10000).histogram(key='result')\n",
    "\n",
    "#following few lines convert the solutions to human-readable form and order the solutions by their frequency\n",
    "counts_list = []\n",
    "counts_list1 = []\n",
    "for i in range(0, 2**9):\n",
    "    counts_list.append((list(np.binary_repr(i, width=9)), counts[i]))\n",
    "    counts_list1.append((np.binary_repr(i, width=9), counts[i]))\n",
    "counts_list1.sort(key=lambda x: -x[1])\n",
    "print(counts_list1[:10])\n",
    "counts_list = [(binary_state_to_points_order([int(i) for i in x[0]]), x[1]) for x in counts_list]\n",
    "counts_list.sort(key=lambda x: -x[1])\n",
    "print(counts_list[:10])"
   ]
  },
  {
   "cell_type": "code",
   "execution_count": 26,
   "metadata": {},
   "outputs": [
    {
     "data": {
      "image/png": "[encoded data removed]",
      "text/plain": [
       "<Figure size 640x480 with 1 Axes>"
      ]
     },
     "metadata": {},
     "output_type": "display_data"
    }
   ],
   "source": [
    "import matplotlib.pyplot as plt\n",
    "data = [x[1] for x in counts_list[:10]]\n",
    "\n",
    "plt.bar([str(x[0]) for x in counts_list[:10]],[x[1] for x in counts_list[:10]])\n",
    "plt.xlabel(\"Solution\")\n",
    "plt.ylabel(\"Frequency\")\n",
    "plt.savefig(\"histogram.png\")"
   ]
  },
  {
   "cell_type": "code",
   "execution_count": 29,
   "metadata": {},
   "outputs": [
    {
     "data": {
      "image/png": "[encoded data removed]",
      "text/plain": [
       "<Figure size 640x480 with 1 Axes>"
      ]
     },
     "metadata": {},
     "output_type": "display_data"
    }
   ],
   "source": [
    "plt.plot([x for x in range(1,10)], [98.65419999999999, 94.83723333333334, 96.3161, 90.06969999999998, 87.7556666666667, 95.2676, 87.20986666666666, 87.69706666666666, 88.06179999999998])\n",
    "plt.xlabel(\"p\")\n",
    "plt.ylabel(\"Average energy\")\n",
    "plt.savefig(\"p_dependence.png\")"
   ]
  }
 ],
 "metadata": {
  "kernelspec": {
   "display_name": "Python 3 (ipykernel)",
   "language": "python",
   "name": "python3"
  },
  "language_info": {
   "codemirror_mode": {
    "name": "ipython",
    "version": 3
   },
   "file_extension": ".py",
   "mimetype": "text/x-python",
   "name": "python",
   "nbconvert_exporter": "python",
   "pygments_lexer": "ipython3",
   "version": "3.8.10"
  },
  "vscode": {
   "interpreter": {
    "hash": "916dbcbb3f70747c44a77c7bcd40155683ae19c65e1c03b4aa3499c5328201f1"
   }
  }
 },
 "nbformat": 4,
 "nbformat_minor": 2
}
